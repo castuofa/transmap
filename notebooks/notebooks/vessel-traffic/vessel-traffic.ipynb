{
 "metadata": {
  "language_info": {
   "codemirror_mode": {
    "name": "ipython",
    "version": 3
   },
   "file_extension": ".py",
   "mimetype": "text/x-python",
   "name": "python",
   "nbconvert_exporter": "python",
   "pygments_lexer": "ipython3",
   "version": "3.9.2-final"
  },
  "orig_nbformat": 2,
  "kernelspec": {
   "name": "python3",
   "display_name": "Python 3.9.2 64-bit ('transmap-examples': pipenv)",
   "metadata": {
    "interpreter": {
     "hash": "eaeaadb81bd381180b7667299bc36daf35dda347d3ea22295a1be9fbb267a730"
    }
   }
  }
 },
 "nbformat": 4,
 "nbformat_minor": 2,
 "cells": [
  {
   "source": [
    "## TransMAP Example: AIS data \n",
    "\n",
    "Using the Transmap API to work with Moving Pandas\n",
    "\n",
    "### API Docs \n",
    "- https://oak.cast.uark.edu/docs\n",
    "\n",
    "### Requirements\n",
    "- must be on UARK VPN to work (for now)\n",
    "\n"
   ],
   "cell_type": "markdown",
   "metadata": {}
  },
  {
   "cell_type": "code",
   "execution_count": null,
   "metadata": {},
   "outputs": [],
   "source": [
    "# Source ref: https://github.com/anitagraser/movingpandas-examples/blob/main/analysis-examples/2-ship-data.ipynb\n",
    "\n",
    "make_url = lambda uri: \"https://oak.cast.uark.edu/{0}\".format(uri)"
   ]
  },
  {
   "cell_type": "code",
   "execution_count": null,
   "metadata": {},
   "outputs": [],
   "source": [
    "%matplotlib inline"
   ]
  },
  {
   "cell_type": "code",
   "execution_count": null,
   "metadata": {},
   "outputs": [],
   "source": [
    "from IPython.core.display import display, HTML\n",
    "display(HTML(\"<style>.container { width:100% !important; }</style>\"))"
   ]
  },
  {
   "cell_type": "code",
   "execution_count": null,
   "metadata": {},
   "outputs": [],
   "source": [
    "import requests\n",
    "import numpy as np\n",
    "import pandas as pd\n",
    "import geopandas\n",
    "from shapely.geometry import Point, LineString, Polygon\n",
    "from datetime import datetime, timedelta\n",
    "import matplotlib.pyplot as plt\n",
    "import movingpandas as mpd\n",
    "\n",
    "import warnings\n",
    "warnings.simplefilter(\"ignore\")"
   ]
  },
  {
   "cell_type": "code",
   "execution_count": null,
   "metadata": {},
   "outputs": [],
   "source": [
    "mpd.__version__"
   ]
  },
  {
   "cell_type": "code",
   "execution_count": null,
   "metadata": {},
   "outputs": [],
   "source": [
    "ais_data = requests.get(make_url('ais/vessels'), params={\n",
    "    \"limit\": 100000\n",
    "}).json()"
   ]
  },
  {
   "cell_type": "code",
   "execution_count": null,
   "metadata": {},
   "outputs": [],
   "source": [
    "df = pd.DataFrame(ais_data)\n",
    "df2 = pd.DataFrame(df.location.tolist(), index= df.index)\n",
    "gpdf = geopandas.GeoDataFrame(df, geometry=geopandas.points_from_xy(df2[0], df2[1]))"
   ]
  },
  {
   "cell_type": "code",
   "execution_count": null,
   "metadata": {},
   "outputs": [],
   "source": [
    "gpdf.set_crs('epsg:4326')"
   ]
  },
  {
   "cell_type": "code",
   "execution_count": null,
   "metadata": {},
   "outputs": [],
   "source": [
    "gpdf.plot()"
   ]
  },
  {
   "cell_type": "code",
   "execution_count": null,
   "metadata": {},
   "outputs": [],
   "source": [
    "gpdf['t'] = pd.to_datetime(gpdf['BaseDateTime'], format='%Y-%m-%dT%H:%M:%S')"
   ]
  },
  {
   "cell_type": "code",
   "execution_count": null,
   "metadata": {},
   "outputs": [],
   "source": [
    "gpdf = gpdf.set_index('t')"
   ]
  },
  {
   "cell_type": "code",
   "execution_count": null,
   "metadata": {},
   "outputs": [],
   "source": [
    "gpdf['SOG'].hist(bins=10, figsize=(15, 3))"
   ]
  },
  {
   "cell_type": "code",
   "execution_count": null,
   "metadata": {},
   "outputs": [],
   "source": [
    "print(\"Original size: {} rows\".format(len(gpdf)))\n",
    "gpdf = gpdf[gpdf.SOG>0]\n",
    "print(\"Reduced to {} rows after removing 0 speed records\".format(len(gpdf)))\n",
    "gpdf['SOG'].hist(bins=10, figsize=(15,3))"
   ]
  },
  {
   "cell_type": "code",
   "execution_count": null,
   "metadata": {},
   "outputs": [],
   "source": [
    "gpdf['VesselType'] = gpdf['VesselType'].astype(float)\n",
    "gpdf['VesselType'].value_counts().plot(kind='bar', figsize=(15,3))"
   ]
  },
  {
   "cell_type": "code",
   "execution_count": null,
   "metadata": {},
   "outputs": [],
   "source": [
    "%%time\n",
    "MIN_LENGTH = 0.02 # degrees - May need to reproject to use meters\n",
    "traj_collection = mpd.TrajectoryCollection(gpdf, 'MMSI', min_length=MIN_LENGTH)\n",
    "print(\"Finished creating {} trajectories\".format(len(traj_collection)))"
   ]
  },
  {
   "cell_type": "code",
   "execution_count": null,
   "metadata": {},
   "outputs": [],
   "source": [
    "traj_collection = mpd.MinTimeDeltaGeneralizer(traj_collection).generalize(tolerance=timedelta(minutes=1))\n",
    "# this is looking for a specific 't' index"
   ]
  },
  {
   "cell_type": "code",
   "execution_count": null,
   "metadata": {},
   "outputs": [],
   "source": [
    "shiptype_to_color = {'Passenger': 'blue', 'HSC': 'green', 'Tanker': 'red', 'Cargo': 'orange'}\n",
    "# Should be changed to map to these codes: https://coast.noaa.gov/data/marinecadastre/ais/VesselTypeCodes2018.pdf\n",
    "traj_collection.plot(column='VesselType', column_to_color=shiptype_to_color, linewidth=1, capstyle='round')"
   ]
  },
  {
   "cell_type": "code",
   "execution_count": null,
   "metadata": {},
   "outputs": [],
   "source": [
    "passenger = traj_collection\n",
    "passenger.hvplot(title='Passenger ferries', line_width=2)"
   ]
  },
  {
   "cell_type": "code",
   "execution_count": null,
   "metadata": {},
   "outputs": [],
   "source": []
  },
  {
   "cell_type": "code",
   "execution_count": null,
   "metadata": {},
   "outputs": [],
   "source": []
  }
 ]
}